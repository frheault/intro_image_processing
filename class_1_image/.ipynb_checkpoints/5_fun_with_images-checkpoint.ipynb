{
 "cells": [
  {
   "cell_type": "code",
   "execution_count": 19,
   "id": "904a45dd",
   "metadata": {},
   "outputs": [],
   "source": [
    "import imageio as iio\n",
    "import numpy as np\n",
    "import os\n",
    "\n",
    "input_filename = 'man-computer-smiling-meme-500px.jpg'\n",
    "ori_img = iio.imread(input_filename)\n",
    "\n",
    "def save_anim(data_list, filename, fps=30):\n",
    "    _, ext = os.path.splitext(filename)\n",
    "    if ext not in ['.gif', '.mp4']:\n",
    "        raise ValueError('Datatype {} not supported!'.format(ext))\n",
    "    iio.mimsave(filename, data_list, fps=fps)\n",
    "    \n",
    "def generate_anim(data, func, tot_frame=100):\n",
    "    anim = []\n",
    "    for i in range(tot_frame):\n",
    "        anim.append((func(data, i)))\n",
    "    return anim"
   ]
  },
  {
   "cell_type": "code",
   "execution_count": 20,
   "id": "f612867b",
   "metadata": {},
   "outputs": [],
   "source": [
    "def roll(data, i):\n",
    "    return np.roll(data, i, axis=0)\n",
    "\n",
    "data_list = generate_anim(ori_img, roll, tot_frame=ori_img.shape[0])\n",
    "save_anim(data_list, 'roll.gif', fps=30)"
   ]
  },
  {
   "cell_type": "code",
   "execution_count": 35,
   "id": "eb15cd31",
   "metadata": {},
   "outputs": [],
   "source": [
    "from skimage.transform import resize\n",
    "\n",
    "def pixelate(data, i):\n",
    "    x = data.shape[0] // (i+1)\n",
    "    y = data.shape[1] // (i+1)\n",
    "    down = resize(data, (x,y, 3), order=0)\n",
    "    up = resize(down, data.shape)*255\n",
    "    return up.astype(np.uint8)\n",
    "\n",
    "data_list = generate_anim(ori_img, pixelate, tot_frame=10)\n",
    "save_anim(data_list, 'pixelate.gif', fps=2)"
   ]
  },
  {
   "cell_type": "code",
   "execution_count": 38,
   "id": "6c202c3e",
   "metadata": {},
   "outputs": [
    {
     "ename": "IndexError",
     "evalue": "index 50 is out of bounds for axis 0 with size 50",
     "output_type": "error",
     "traceback": [
      "\u001b[0;31m---------------------------------------------------------------------------\u001b[0m",
      "\u001b[0;31mIndexError\u001b[0m                                Traceback (most recent call last)",
      "Input \u001b[0;32mIn [38]\u001b[0m, in \u001b[0;36m<cell line: 11>\u001b[0;34m()\u001b[0m\n\u001b[1;32m      8\u001b[0m     b \u001b[38;5;241m=\u001b[39m data[:, rand_arr[(i\u001b[38;5;241m*\u001b[39m\u001b[38;5;241m2\u001b[39m)\u001b[38;5;241m+\u001b[39m\u001b[38;5;241m1\u001b[39m]] \u001b[38;5;241m=\u001b[39m a\n\u001b[1;32m      9\u001b[0m     \u001b[38;5;28;01mreturn\u001b[39;00m data\n\u001b[0;32m---> 11\u001b[0m data_list \u001b[38;5;241m=\u001b[39m \u001b[43mgenerate_anim\u001b[49m\u001b[43m(\u001b[49m\u001b[43mori_img\u001b[49m\u001b[43m,\u001b[49m\u001b[43m \u001b[49m\u001b[43mmix_up\u001b[49m\u001b[43m,\u001b[49m\u001b[43m \u001b[49m\u001b[43mtot_frame\u001b[49m\u001b[38;5;241;43m=\u001b[39;49m\u001b[38;5;241;43m100\u001b[39;49m\u001b[43m)\u001b[49m\n\u001b[1;32m     12\u001b[0m save_anim(data_list, \u001b[38;5;124m'\u001b[39m\u001b[38;5;124mpixelate.gif\u001b[39m\u001b[38;5;124m'\u001b[39m, fps\u001b[38;5;241m=\u001b[39m\u001b[38;5;241m2\u001b[39m)\n",
      "Input \u001b[0;32mIn [19]\u001b[0m, in \u001b[0;36mgenerate_anim\u001b[0;34m(data, func, tot_frame)\u001b[0m\n\u001b[1;32m     15\u001b[0m anim \u001b[38;5;241m=\u001b[39m []\n\u001b[1;32m     16\u001b[0m \u001b[38;5;28;01mfor\u001b[39;00m i \u001b[38;5;129;01min\u001b[39;00m \u001b[38;5;28mrange\u001b[39m(tot_frame):\n\u001b[0;32m---> 17\u001b[0m     anim\u001b[38;5;241m.\u001b[39mappend((\u001b[43mfunc\u001b[49m\u001b[43m(\u001b[49m\u001b[43mdata\u001b[49m\u001b[43m,\u001b[49m\u001b[43m \u001b[49m\u001b[43mi\u001b[49m\u001b[43m)\u001b[49m))\n\u001b[1;32m     18\u001b[0m \u001b[38;5;28;01mreturn\u001b[39;00m anim\n",
      "Input \u001b[0;32mIn [38]\u001b[0m, in \u001b[0;36mmix_up\u001b[0;34m(data, i)\u001b[0m\n\u001b[1;32m      3\u001b[0m \u001b[38;5;28;01mdef\u001b[39;00m \u001b[38;5;21mmix_up\u001b[39m(data, i):\n\u001b[1;32m      4\u001b[0m     rand_arr \u001b[38;5;241m=\u001b[39m (np\u001b[38;5;241m.\u001b[39mrandom\u001b[38;5;241m.\u001b[39mrandom(\u001b[38;5;241m50\u001b[39m) \u001b[38;5;241m*\u001b[39m data\u001b[38;5;241m.\u001b[39mshape[\u001b[38;5;241m1\u001b[39m])\u001b[38;5;241m.\u001b[39mastype(np\u001b[38;5;241m.\u001b[39muint16)\n\u001b[0;32m----> 5\u001b[0m     a \u001b[38;5;241m=\u001b[39m data[:, \u001b[43mrand_arr\u001b[49m\u001b[43m[\u001b[49m\u001b[43mi\u001b[49m\u001b[38;5;241;43m*\u001b[39;49m\u001b[38;5;241;43m2\u001b[39;49m\u001b[43m]\u001b[49m]\u001b[38;5;241m.\u001b[39mcopy()\n\u001b[1;32m      6\u001b[0m     b \u001b[38;5;241m=\u001b[39m data[:, rand_arr[(i\u001b[38;5;241m*\u001b[39m\u001b[38;5;241m2\u001b[39m)\u001b[38;5;241m+\u001b[39m\u001b[38;5;241m1\u001b[39m]]\u001b[38;5;241m.\u001b[39mcopy()\n\u001b[1;32m      7\u001b[0m     data[:, rand_arr[i\u001b[38;5;241m*\u001b[39m\u001b[38;5;241m2\u001b[39m]] \u001b[38;5;241m=\u001b[39m b\n",
      "\u001b[0;31mIndexError\u001b[0m: index 50 is out of bounds for axis 0 with size 50"
     ]
    }
   ],
   "source": [
    "np.random.RandomState(0)\n",
    "\n",
    "def mix_up(data, i):\n",
    "    rand_arr = (np.random.random(50) * data.shape[1]).astype(np.uint16)\n",
    "    a = data[:, rand_arr[i*2]].copy()\n",
    "    b = data[:, rand_arr[(i*2)+1]].copy()\n",
    "    data[:, rand_arr[i*2]] = b\n",
    "    b = data[:, rand_arr[(i*2)+1]] = a\n",
    "    return data\n",
    "\n",
    "data_list = generate_anim(ori_img, mix_up, tot_frame=100)\n",
    "save_anim(data_list, 'pixelate.gif', fps=2)"
   ]
  },
  {
   "cell_type": "code",
   "execution_count": null,
   "id": "419959f2",
   "metadata": {},
   "outputs": [],
   "source": []
  }
 ],
 "metadata": {
  "kernelspec": {
   "display_name": "Python 3 (ipykernel)",
   "language": "python",
   "name": "python3"
  },
  "language_info": {
   "codemirror_mode": {
    "name": "ipython",
    "version": 3
   },
   "file_extension": ".py",
   "mimetype": "text/x-python",
   "name": "python",
   "nbconvert_exporter": "python",
   "pygments_lexer": "ipython3",
   "version": "3.8.10"
  }
 },
 "nbformat": 4,
 "nbformat_minor": 5
}
