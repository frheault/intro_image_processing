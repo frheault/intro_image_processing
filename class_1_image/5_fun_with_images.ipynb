{
 "cells": [
  {
   "cell_type": "code",
   "execution_count": 1,
   "id": "904a45dd",
   "metadata": {},
   "outputs": [],
   "source": [
    "import imageio as iio\n",
    "import numpy as np\n",
    "import os\n",
    "\n",
    "# Load the image and declare functions\n",
    "input_filename = 'man-computer-smiling-meme-500px.jpg'\n",
    "ori_img = iio.imread(input_filename)\n",
    "\n",
    "def save_anim(data_list, filename, fps=30):\n",
    "    _, ext = os.path.splitext(filename)\n",
    "    if ext not in ['.gif', '.mp4']:\n",
    "        raise ValueError('Datatype {} not supported!'.format(ext))\n",
    "    iio.mimsave(filename, data_list, fps=fps)\n",
    "    \n",
    "def generate_anim(data, func, tot_frame=100):\n",
    "    anim = []\n",
    "    for i in range(tot_frame):\n",
    "        anim.append((func(data, (i, tot_frame))))\n",
    "    return anim"
   ]
  },
  {
   "cell_type": "code",
   "execution_count": 2,
   "id": "f612867b",
   "metadata": {},
   "outputs": [],
   "source": [
    "# Function that will roll around one axis\n",
    "def roll(data, iter_tuple):\n",
    "    i = (data.shape[0] // iter_tuple[1]) * iter_tuple[0]\n",
    "    return np.roll(data, i, axis=0)\n",
    "\n",
    "data_list = generate_anim(ori_img, roll, tot_frame=ori_img.shape[0])\n",
    "save_anim(data_list, 'roll.gif', fps=30)"
   ]
  },
  {
   "cell_type": "code",
   "execution_count": 3,
   "id": "eb15cd31",
   "metadata": {},
   "outputs": [],
   "source": [
    "from PIL import Image\n",
    "\n",
    "# Using a libary to resample down and then up an image (pixelate/blur)\n",
    "def pixelate(data, iter_tuple):\n",
    "    i = iter_tuple[0] // (iter_tuple[1] // 10)\n",
    "    x = data.shape[0] // (i+1)\n",
    "    y = data.shape[1] // (i+1)\n",
    "    \n",
    "    tmp = Image.fromarray(data)\n",
    "    down = tmp.resize((y,x), Image.NEAREST)\n",
    "    up = down.resize((data.shape[1], data.shape[0]), Image.NEAREST)\n",
    "    return np.array(up).astype(np.uint8)\n",
    "\n",
    "data_list = generate_anim(ori_img, pixelate, tot_frame=100)\n",
    "save_anim(data_list, 'pixelate.gif', fps=25)"
   ]
  },
  {
   "cell_type": "code",
   "execution_count": 4,
   "id": "6c202c3e",
   "metadata": {},
   "outputs": [],
   "source": [
    "# From a list of images, generate a GIF\n",
    "filenames = sorted(os.listdir('./frames/'))\n",
    "data_list = []\n",
    "for filename in filenames:\n",
    "    curr_frame = iio.imread(os.path.join('./frames/',\n",
    "                                        filename))\n",
    "    data_list.append(curr_frame)\n",
    "save_anim(data_list, 'goku.gif', fps=15)"
   ]
  }
 ],
 "metadata": {
  "kernelspec": {
   "display_name": "Python 3 (ipykernel)",
   "language": "python",
   "name": "python3"
  },
  "language_info": {
   "codemirror_mode": {
    "name": "ipython",
    "version": 3
   },
   "file_extension": ".py",
   "mimetype": "text/x-python",
   "name": "python",
   "nbconvert_exporter": "python",
   "pygments_lexer": "ipython3",
   "version": "3.8.10"
  }
 },
 "nbformat": 4,
 "nbformat_minor": 5
}
