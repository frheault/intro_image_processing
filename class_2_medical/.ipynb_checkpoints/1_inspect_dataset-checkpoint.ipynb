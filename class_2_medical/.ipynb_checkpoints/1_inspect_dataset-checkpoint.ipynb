{
 "cells": [
  {
   "cell_type": "code",
   "execution_count": 21,
   "id": "1ee2304c",
   "metadata": {},
   "outputs": [],
   "source": [
    "import os\n",
    "import requests, zipfile, io\n",
    "\n",
    "# FILENAME = 'mni_icbm152_nlin_sym_09c_nifti.zip'\n",
    "# URL = 'http://www.bic.mni.mcgill.ca/~vfonov/icbm/2009/{}'.format(FILENAME)\n",
    "# WORKDIR = os.path.expanduser('MNI152/')\n",
    "\n",
    "# if not os.path.isdir(WORKDIR):\n",
    "#     os.mkdir(WORKDIR)\n",
    "#     r = requests.get(URL, stream=True)\n",
    "#     with zipfile.ZipFile(io.BytesIO(r.content)) as zipObj:\n",
    "#        zipObj.extractall(path=WORKDIR)"
   ]
  },
  {
   "cell_type": "code",
   "execution_count": null,
   "id": "6bc3d97a",
   "metadata": {},
   "outputs": [],
   "source": [
    "import numpy as np \n",
    "import matplotlib.pyplot as plt\n",
    "\n",
    "axis_enum = {'sagittal':0, 'coronal':1,'axial':2}\n",
    "\n",
    "def split_name_with_nii(filename):\n",
    "    base, ext = os.path.splitext(filename)\n",
    "\n",
    "    if ext == \".gz\":\n",
    "        # Test if we have a .nii additional extension\n",
    "        tmp_base, extra_ext = os.path.splitext(base)\n",
    "\n",
    "        if extra_ext == \".nii\":\n",
    "            ext = extra_ext + ext\n",
    "            base = tmp_base\n",
    "\n",
    "    return base, ext\n",
    "\n",
    "def get_slice(volume_3d, axis_name, indice=None):\n",
    "    # Personal preference for orientation (nose up for axial, nose left for sagittal, nose first for coronal)\n",
    "    # Operation done in 2D, still very fast and easier to understand\n",
    "    if axis_name == 'sagittal':\n",
    "        if indice is None:\n",
    "            indice = volume_3d.shape[0] // 2\n",
    "        slice_2d = np.rot90(volume_3d[indice,:,:])\n",
    "    elif axis_name == 'coronal':\n",
    "        if indice is None:\n",
    "            indice = volume_3d.shape[1] // 2\n",
    "        slice_2d = np.rot90(np.flip(volume_3d, axis=1)[:,indice,:])\n",
    "    elif axis_name == 'axial':\n",
    "        if indice is None:\n",
    "            indice = volume_3d.shape[2] // 2\n",
    "        slice_2d = np.rot90(np.flip(volume_3d, axis=2)[:,:,indice])\n",
    "    else:\n",
    "        raise ValueError('{0} is not a valid axis name'.format(axis))\n",
    "\n",
    "    return slice_2d"
   ]
  }
 ],
 "metadata": {
  "kernelspec": {
   "display_name": "Python 3 (ipykernel)",
   "language": "python",
   "name": "python3"
  },
  "language_info": {
   "codemirror_mode": {
    "name": "ipython",
    "version": 3
   },
   "file_extension": ".py",
   "mimetype": "text/x-python",
   "name": "python",
   "nbconvert_exporter": "python",
   "pygments_lexer": "ipython3",
   "version": "3.8.10"
  }
 },
 "nbformat": 4,
 "nbformat_minor": 5
}
